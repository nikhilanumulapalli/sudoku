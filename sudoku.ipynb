{
 "cells": [
  {
   "cell_type": "code",
   "execution_count": 1,
   "metadata": {},
   "outputs": [],
   "source": [
    "import numpy as np\n",
    "import time"
   ]
  },
  {
   "cell_type": "code",
   "execution_count": 2,
   "metadata": {},
   "outputs": [],
   "source": [
    "def validNumber(number, rowNumber, columnNumber):\n",
    "    global sudoku\n",
    "    if number in sudoku[rowNumber]:\n",
    "        return 0\n",
    "    if number in sudoku[:,columnNumber]:\n",
    "        return 0\n",
    "    for row in sudoku[rowNumber//3*3:(rowNumber+1)//3*3,columnNumber//3*3:(columnNumber+1)//3*3]:\n",
    "        if number in row:\n",
    "            return 0\n",
    "    return 1"
   ]
  },
  {
   "cell_type": "code",
   "execution_count": 3,
   "metadata": {},
   "outputs": [],
   "source": [
    "def solveSudoku():\n",
    "    iterations = 0\n",
    "    millis = time.time()\n",
    "    count = 0\n",
    "    while count < 81:\n",
    "        i, j = count//9, count%9\n",
    "        state = 1\n",
    "        num = sudoku[i][j]\n",
    "        while not sudokuState[i][j] and state:\n",
    "            iterations+=1\n",
    "            if num < 9:\n",
    "                num += 1\n",
    "            if (num < 10 and validNumber(num, i, j)):\n",
    "                sudoku[i][j] = num\n",
    "                state = 0\n",
    "                count += 1\n",
    "                i, j = count//9, count%9\n",
    "                break\n",
    "            elif num == 9 and not validNumber(num, i, j):\n",
    "                sudoku[i][j] = 0\n",
    "                count -= 1\n",
    "                i, j = count//9, count%9\n",
    "                while sudokuState [i][j]:\n",
    "                    count -= 1\n",
    "                    i, j = count//9, count%9\n",
    "                break\n",
    "        if count < 81 and sudokuState[i][j]:\n",
    "            count += 1\n",
    "            i, j = count//9, count%9\n",
    "\n",
    "    print ('evaluation time in seconds:', time.time() - millis)\n",
    "    print (\"number of iterations :\",iterations)\n",
    "    print()\n",
    "    for i in range(9):\n",
    "        print(end=\"  \")\n",
    "        for j in range(9):\n",
    "            print (sudoku[i][j],end=\"|\")\n",
    "            if (j+1)%3 == 0:\n",
    "                print (end=\"\\b  \")\n",
    "        if (i+1)%3:\n",
    "            print(\"\\n-----------------------\")\n",
    "        else:\n",
    "            print(\"\\n\")\n"
   ]
  },
  {
   "cell_type": "code",
   "execution_count": 4,
   "metadata": {
    "scrolled": true
   },
   "outputs": [
    {
     "name": "stdout",
     "output_type": "stream",
     "text": [
      "enter numbers\n",
      "001600900 000001007 280040000 000080100 000300040 006007030 700900000 010000420 090005000\n",
      "\n",
      " [[0 0 1 6 0 0 9 0 0]\n",
      " [0 0 0 0 0 1 0 0 7]\n",
      " [2 8 0 0 4 0 0 0 0]\n",
      " [0 0 0 0 8 0 1 0 0]\n",
      " [0 0 0 3 0 0 0 4 0]\n",
      " [0 0 6 0 0 7 0 3 0]\n",
      " [7 0 0 9 0 0 0 0 0]\n",
      " [0 1 0 0 0 0 4 2 0]\n",
      " [0 9 0 0 0 5 0 0 0]]\n",
      "evaluation time in seconds: 0.15021181106567383\n",
      "number of iterations : 18327\n",
      "\n",
      "  3|2|1  6|5|4  9|7|8  \n",
      "-----------------------\n",
      "  4|3|2  5|6|1  8|9|7  \n",
      "-----------------------\n",
      "  2|8|5  1|4|9  7|6|3  \n",
      "\n",
      "  6|4|9  7|8|3  1|5|2  \n",
      "-----------------------\n",
      "  5|7|8  3|9|2  6|4|1  \n",
      "-----------------------\n",
      "  8|5|6  4|1|7  2|3|9  \n",
      "\n",
      "  7|6|3  9|2|8  5|1|4  \n",
      "-----------------------\n",
      "  9|1|7  8|3|6  4|2|5  \n",
      "-----------------------\n",
      "  1|9|4  2|7|5  3|8|6  \n",
      "\n"
     ]
    }
   ],
   "source": [
    "mat = input(\"enter numbers\\n\")\n",
    "sudoku = []\n",
    "for i in mat.split(\" \"):\n",
    "    row = []\n",
    "    for j in i:\n",
    "        row.append(int(j))\n",
    "    sudoku.append(row)\n",
    "\n",
    "sudoku = np.array(sudoku)\n",
    "print ('\\n',sudoku)\n",
    "\n",
    "sudokuState = []\n",
    "for row in sudoku:\n",
    "    state = []\n",
    "    for element in row:\n",
    "        if element == 0:\n",
    "            state.append(0)\n",
    "        else:\n",
    "            state.append(1)\n",
    "    sudokuState.append(state)\n",
    "# print (np.array(sudokuState))\n",
    "\n",
    "solveSudoku()"
   ]
  },
  {
   "cell_type": "code",
   "execution_count": null,
   "metadata": {},
   "outputs": [],
   "source": []
  }
 ],
 "metadata": {
  "kernelspec": {
   "display_name": "Python 3",
   "language": "python",
   "name": "python3"
  },
  "language_info": {
   "codemirror_mode": {
    "name": "ipython",
    "version": 3
   },
   "file_extension": ".py",
   "mimetype": "text/x-python",
   "name": "python",
   "nbconvert_exporter": "python",
   "pygments_lexer": "ipython3",
   "version": "3.6.5"
  }
 },
 "nbformat": 4,
 "nbformat_minor": 2
}
